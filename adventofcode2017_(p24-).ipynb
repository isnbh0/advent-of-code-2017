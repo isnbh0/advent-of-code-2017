{
 "cells": [
  {
   "cell_type": "code",
   "execution_count": 2,
   "metadata": {},
   "outputs": [
    {
     "data": {
      "text/plain": [
       "0"
      ]
     },
     "execution_count": 2,
     "metadata": {},
     "output_type": "execute_result"
    }
   ],
   "source": [
    "from subprocess import call\n",
    "\n",
    "call(['ls'])"
   ]
  },
  {
   "cell_type": "code",
   "execution_count": 4,
   "metadata": {
    "collapsed": true
   },
   "outputs": [],
   "source": [
    "import re\n",
    "\n",
    "def get_input_by_lines(prob, strip=True):\n",
    "    lines = []\n",
    "\n",
    "    with open('prob{}.txt'.format(prob), 'r') as prob_input:\n",
    "        for line in prob_input:\n",
    "            line = re.sub(r'\\t', ',', line)\n",
    "            if strip:\n",
    "                lines.append(line.strip())\n",
    "    #print(lines[:4], len(lines))\n",
    "\n",
    "    return lines"
   ]
  },
  {
   "cell_type": "code",
   "execution_count": 15,
   "metadata": {},
   "outputs": [
    {
     "ename": "FileNotFoundError",
     "evalue": "[Errno 2] No such file or directory: 'prob7.txt'",
     "output_type": "error",
     "traceback": [
      "\u001b[0;31m---------------------------------------------------------------------------\u001b[0m",
      "\u001b[0;31mFileNotFoundError\u001b[0m                         Traceback (most recent call last)",
      "\u001b[0;32m<ipython-input-15-ad4ce0144397>\u001b[0m in \u001b[0;36m<module>\u001b[0;34m()\u001b[0m\n\u001b[0;32m----> 1\u001b[0;31m \u001b[0mget_input_by_lines\u001b[0m\u001b[0;34m(\u001b[0m\u001b[0;36m7\u001b[0m\u001b[0;34m)\u001b[0m\u001b[0;34m\u001b[0m\u001b[0m\n\u001b[0m",
      "\u001b[0;32m<ipython-input-4-a08f4ce76345>\u001b[0m in \u001b[0;36mget_input_by_lines\u001b[0;34m(prob, strip)\u001b[0m\n\u001b[1;32m      4\u001b[0m     \u001b[0mlines\u001b[0m \u001b[0;34m=\u001b[0m \u001b[0;34m[\u001b[0m\u001b[0;34m]\u001b[0m\u001b[0;34m\u001b[0m\u001b[0m\n\u001b[1;32m      5\u001b[0m \u001b[0;34m\u001b[0m\u001b[0m\n\u001b[0;32m----> 6\u001b[0;31m     \u001b[0;32mwith\u001b[0m \u001b[0mopen\u001b[0m\u001b[0;34m(\u001b[0m\u001b[0;34m'prob{}.txt'\u001b[0m\u001b[0;34m.\u001b[0m\u001b[0mformat\u001b[0m\u001b[0;34m(\u001b[0m\u001b[0mprob\u001b[0m\u001b[0;34m)\u001b[0m\u001b[0;34m,\u001b[0m \u001b[0;34m'r'\u001b[0m\u001b[0;34m)\u001b[0m \u001b[0;32mas\u001b[0m \u001b[0mprob_input\u001b[0m\u001b[0;34m:\u001b[0m\u001b[0;34m\u001b[0m\u001b[0m\n\u001b[0m\u001b[1;32m      7\u001b[0m         \u001b[0;32mfor\u001b[0m \u001b[0mline\u001b[0m \u001b[0;32min\u001b[0m \u001b[0mprob_input\u001b[0m\u001b[0;34m:\u001b[0m\u001b[0;34m\u001b[0m\u001b[0m\n\u001b[1;32m      8\u001b[0m             \u001b[0mline\u001b[0m \u001b[0;34m=\u001b[0m \u001b[0mre\u001b[0m\u001b[0;34m.\u001b[0m\u001b[0msub\u001b[0m\u001b[0;34m(\u001b[0m\u001b[0;34mr'\\t'\u001b[0m\u001b[0;34m,\u001b[0m \u001b[0;34m','\u001b[0m\u001b[0;34m,\u001b[0m \u001b[0mline\u001b[0m\u001b[0;34m)\u001b[0m\u001b[0;34m\u001b[0m\u001b[0m\n",
      "\u001b[0;31mFileNotFoundError\u001b[0m: [Errno 2] No such file or directory: 'prob7.txt'"
     ]
    }
   ],
   "source": [
    "get_input_by_lines(7)"
   ]
  },
  {
   "cell_type": "code",
   "execution_count": 184,
   "metadata": {},
   "outputs": [
    {
     "data": {
      "text/plain": [
       "[(42, 37), (28, 28), (29, 25), (45, 8)]"
      ]
     },
     "execution_count": 184,
     "metadata": {},
     "output_type": "execute_result"
    }
   ],
   "source": [
    "ex24_0 = get_input_by_lines(24)\n",
    "ex24 = [tuple(map(int, x.split('/'))) for x in ex24_0]\n",
    "ex24[:4]"
   ]
  },
  {
   "cell_type": "code",
   "execution_count": 205,
   "metadata": {},
   "outputs": [
    {
     "data": {
      "text/plain": [
       "[(0, 2), (2, 2), (2, 3), (3, 4), (3, 5), (0, 1), (10, 1), (9, 10)]"
      ]
     },
     "execution_count": 205,
     "metadata": {},
     "output_type": "execute_result"
    }
   ],
   "source": [
    "z24_0 = '''0/2\n",
    "2/2\n",
    "2/3\n",
    "3/4\n",
    "3/5\n",
    "0/1\n",
    "10/1\n",
    "9/10'''.split('\\n')\n",
    "\n",
    "z24 = [tuple(map(int, x.split('/'))) for x in z24_0]\n",
    "\n",
    "z24"
   ]
  },
  {
   "cell_type": "code",
   "execution_count": 278,
   "metadata": {
    "collapsed": true
   },
   "outputs": [],
   "source": [
    "from copy import deepcopy as dcopy\n",
    "\n",
    "def make_bridges(old_comps, port=0, current=[], lvl=0):\n",
    "    if lvl >= 55:\n",
    "        print(lvl)\n",
    "#    print(len(old_comps), len(current), port)\n",
    "\n",
    "    viable = [comp for comp in old_comps if port in comp]\n",
    "    old_current = dcopy(current)\n",
    "    \n",
    "    bridges = []\n",
    "\n",
    "    \n",
    "    for comp in viable:\n",
    "        comps = dcopy(old_comps)\n",
    "        current = dcopy(old_current)\n",
    "\n",
    "        if current==([(0, 22), (22, 35), (35, 23)]):\n",
    "            print(comps, len(comps), comp)\n",
    "        comps.remove(comp)\n",
    "        complist = list(comp)\n",
    "        complist.remove(port)\n",
    "        new_port = complist[0]\n",
    "        \n",
    "        if current==([(0, 22), (22, 35), (35, 23)]):\n",
    "            print(comps, len(comps), comp)\n",
    "            print(\"=\"*80)\n",
    "\n",
    "\n",
    "        current.append(comp)\n",
    "        bridges.append(dcopy(current))\n",
    "\n",
    "        bridges.extend(\n",
    "        make_bridges(dcopy(comps), new_port,\n",
    "                     dcopy(current), lvl+1))\n",
    "\n",
    "    return bridges\n"
   ]
  },
  {
   "cell_type": "code",
   "execution_count": 178,
   "metadata": {
    "collapsed": true
   },
   "outputs": [
    {
     "data": {
      "text/plain": [
       "[[(0, 2)],\n",
       " [(0, 2), (2, 2)],\n",
       " [(0, 2), (2, 2), (2, 3)],\n",
       " [(0, 2), (2, 2), (2, 3), (3, 4)],\n",
       " [(0, 2), (2, 2), (2, 3), (3, 5)],\n",
       " [(0, 2), (2, 3)],\n",
       " [(0, 2), (2, 3), (3, 4)],\n",
       " [(0, 2), (2, 3), (3, 5)],\n",
       " [(0, 1)],\n",
       " [(0, 1), (10, 1)],\n",
       " [(0, 1), (10, 1), (9, 10)]]"
      ]
     },
     "execution_count": 178,
     "metadata": {},
     "output_type": "execute_result"
    }
   ],
   "source": [
    "z24 = [tuple(map(int, x.split('/'))) for x in z24_0]\n",
    "make_bridges(z24)"
   ]
  },
  {
   "cell_type": "code",
   "execution_count": 279,
   "metadata": {
    "scrolled": true
   },
   "outputs": [
    {
     "name": "stdout",
     "output_type": "stream",
     "text": [
      "[(42, 37), (28, 28), (29, 25), (45, 8), (49, 20), (44, 4), (15, 33), (14, 19), (31, 44), (39, 14), (25, 17), (34, 34), (38, 42), (8, 42), (15, 28), (0, 7), (49, 12), (18, 36), (45, 45), (28, 7), (30, 43), (23, 41), (0, 35), (18, 9), (3, 31), (20, 31), (10, 40), (1, 23), (20, 47), (38, 36), (15, 8), (34, 32), (30, 30), (30, 44), (19, 28), (46, 15), (34, 50), (40, 20), (27, 39), (3, 14), (43, 45), (50, 42), (1, 33), (6, 39), (46, 44), (15, 20), (43, 31), (23, 23), (19, 27), (47, 15), (43, 43), (25, 36), (26, 38), (1, 10)] 54 (23, 41)\n",
      "[(42, 37), (28, 28), (29, 25), (45, 8), (49, 20), (44, 4), (15, 33), (14, 19), (31, 44), (39, 14), (25, 17), (34, 34), (38, 42), (8, 42), (15, 28), (0, 7), (49, 12), (18, 36), (45, 45), (28, 7), (30, 43), (0, 35), (18, 9), (3, 31), (20, 31), (10, 40), (1, 23), (20, 47), (38, 36), (15, 8), (34, 32), (30, 30), (30, 44), (19, 28), (46, 15), (34, 50), (40, 20), (27, 39), (3, 14), (43, 45), (50, 42), (1, 33), (6, 39), (46, 44), (15, 20), (43, 31), (23, 23), (19, 27), (47, 15), (43, 43), (25, 36), (26, 38), (1, 10)] 53 (23, 41)\n",
      "================================================================================\n",
      "[(42, 37), (28, 28), (29, 25), (45, 8), (49, 20), (44, 4), (15, 33), (14, 19), (31, 44), (39, 14), (25, 17), (34, 34), (38, 42), (8, 42), (15, 28), (0, 7), (49, 12), (18, 36), (45, 45), (28, 7), (30, 43), (23, 41), (0, 35), (18, 9), (3, 31), (20, 31), (10, 40), (1, 23), (20, 47), (38, 36), (15, 8), (34, 32), (30, 30), (30, 44), (19, 28), (46, 15), (34, 50), (40, 20), (27, 39), (3, 14), (43, 45), (50, 42), (1, 33), (6, 39), (46, 44), (15, 20), (43, 31), (23, 23), (19, 27), (47, 15), (43, 43), (25, 36), (26, 38), (1, 10)] 54 (1, 23)\n",
      "[(42, 37), (28, 28), (29, 25), (45, 8), (49, 20), (44, 4), (15, 33), (14, 19), (31, 44), (39, 14), (25, 17), (34, 34), (38, 42), (8, 42), (15, 28), (0, 7), (49, 12), (18, 36), (45, 45), (28, 7), (30, 43), (23, 41), (0, 35), (18, 9), (3, 31), (20, 31), (10, 40), (20, 47), (38, 36), (15, 8), (34, 32), (30, 30), (30, 44), (19, 28), (46, 15), (34, 50), (40, 20), (27, 39), (3, 14), (43, 45), (50, 42), (1, 33), (6, 39), (46, 44), (15, 20), (43, 31), (23, 23), (19, 27), (47, 15), (43, 43), (25, 36), (26, 38), (1, 10)] 53 (1, 23)\n",
      "================================================================================\n",
      "[(42, 37), (28, 28), (29, 25), (45, 8), (49, 20), (44, 4), (15, 33), (14, 19), (31, 44), (39, 14), (25, 17), (34, 34), (38, 42), (8, 42), (15, 28), (0, 7), (49, 12), (18, 36), (45, 45), (28, 7), (30, 43), (23, 41), (0, 35), (18, 9), (3, 31), (20, 31), (10, 40), (1, 23), (20, 47), (38, 36), (15, 8), (34, 32), (30, 30), (30, 44), (19, 28), (46, 15), (34, 50), (40, 20), (27, 39), (3, 14), (43, 45), (50, 42), (1, 33), (6, 39), (46, 44), (15, 20), (43, 31), (23, 23), (19, 27), (47, 15), (43, 43), (25, 36), (26, 38), (1, 10)] 54 (23, 23)\n",
      "[(42, 37), (28, 28), (29, 25), (45, 8), (49, 20), (44, 4), (15, 33), (14, 19), (31, 44), (39, 14), (25, 17), (34, 34), (38, 42), (8, 42), (15, 28), (0, 7), (49, 12), (18, 36), (45, 45), (28, 7), (30, 43), (23, 41), (0, 35), (18, 9), (3, 31), (20, 31), (10, 40), (1, 23), (20, 47), (38, 36), (15, 8), (34, 32), (30, 30), (30, 44), (19, 28), (46, 15), (34, 50), (40, 20), (27, 39), (3, 14), (43, 45), (50, 42), (1, 33), (6, 39), (46, 44), (15, 20), (43, 31), (19, 27), (47, 15), (43, 43), (25, 36), (26, 38), (1, 10)] 53 (23, 23)\n",
      "================================================================================\n",
      "CPU times: user 5min 49s, sys: 354 ms, total: 5min 49s\n",
      "Wall time: 5min 49s\n"
     ]
    }
   ],
   "source": [
    "%%time\n",
    "zzzzzzz = make_bridges(ex24)"
   ]
  },
  {
   "cell_type": "code",
   "execution_count": 281,
   "metadata": {},
   "outputs": [
    {
     "data": {
      "text/plain": [
       "838743"
      ]
     },
     "execution_count": 281,
     "metadata": {},
     "output_type": "execute_result"
    }
   ],
   "source": [
    "len(zzzzzzz)"
   ]
  },
  {
   "cell_type": "code",
   "execution_count": 283,
   "metadata": {},
   "outputs": [
    {
     "data": {
      "text/plain": [
       "[[(0, 7)],\n",
       " [(0, 7), (28, 7)],\n",
       " [(0, 7), (28, 7), (28, 28)],\n",
       " [(0, 7), (28, 7), (28, 28), (15, 28)]]"
      ]
     },
     "execution_count": 283,
     "metadata": {},
     "output_type": "execute_result"
    }
   ],
   "source": [
    "zzzzzzz[:4]"
   ]
  },
  {
   "cell_type": "code",
   "execution_count": 285,
   "metadata": {},
   "outputs": [
    {
     "name": "stdout",
     "output_type": "stream",
     "text": [
      "CPU times: user 8.4 s, sys: 129 ms, total: 8.53 s\n",
      "Wall time: 8.33 s\n"
     ]
    }
   ],
   "source": [
    "%%time\n",
    "sum24 = [np.array(x).flatten().sum() for x in zzzzzzz]"
   ]
  },
  {
   "cell_type": "code",
   "execution_count": 286,
   "metadata": {},
   "outputs": [
    {
     "data": {
      "text/plain": [
       "674721"
      ]
     },
     "execution_count": 286,
     "metadata": {},
     "output_type": "execute_result"
    }
   ],
   "source": [
    "np.argmax(sum24)"
   ]
  },
  {
   "cell_type": "code",
   "execution_count": 288,
   "metadata": {},
   "outputs": [
    {
     "data": {
      "text/plain": [
       "1940"
      ]
     },
     "execution_count": 288,
     "metadata": {},
     "output_type": "execute_result"
    }
   ],
   "source": [
    "sum24[674721]"
   ]
  },
  {
   "cell_type": "code",
   "execution_count": 289,
   "metadata": {},
   "outputs": [
    {
     "data": {
      "text/plain": [
       "[(0, 22),\n",
       " (22, 35),\n",
       " (35, 23),\n",
       " (23, 23),\n",
       " (1, 23),\n",
       " (1, 10),\n",
       " (10, 40),\n",
       " (40, 20),\n",
       " (20, 31),\n",
       " (3, 31),\n",
       " (3, 14),\n",
       " (39, 14),\n",
       " (27, 39),\n",
       " (19, 27),\n",
       " (19, 28),\n",
       " (28, 28),\n",
       " (15, 28),\n",
       " (15, 20),\n",
       " (20, 47),\n",
       " (47, 15),\n",
       " (46, 15),\n",
       " (46, 44),\n",
       " (30, 44),\n",
       " (30, 30),\n",
       " (30, 43),\n",
       " (43, 43),\n",
       " (43, 45),\n",
       " (45, 45),\n",
       " (45, 8),\n",
       " (8, 42),\n",
       " (50, 42),\n",
       " (34, 50),\n",
       " (34, 34),\n",
       " (34, 32)]"
      ]
     },
     "execution_count": 289,
     "metadata": {},
     "output_type": "execute_result"
    }
   ],
   "source": [
    "zzzzzzz[674721]"
   ]
  },
  {
   "cell_type": "code",
   "execution_count": 290,
   "metadata": {
    "collapsed": true
   },
   "outputs": [],
   "source": [
    "l24 = [len(x) for x in zzzzzzz]"
   ]
  },
  {
   "cell_type": "code",
   "execution_count": 292,
   "metadata": {},
   "outputs": [
    {
     "data": {
      "text/plain": [
       "422233"
      ]
     },
     "execution_count": 292,
     "metadata": {},
     "output_type": "execute_result"
    }
   ],
   "source": [
    "np.argmax(l24)"
   ]
  },
  {
   "cell_type": "code",
   "execution_count": 297,
   "metadata": {},
   "outputs": [
    {
     "data": {
      "text/plain": [
       "35"
      ]
     },
     "execution_count": 297,
     "metadata": {},
     "output_type": "execute_result"
    }
   ],
   "source": [
    "max(l24)"
   ]
  },
  {
   "cell_type": "code",
   "execution_count": 298,
   "metadata": {},
   "outputs": [
    {
     "name": "stdout",
     "output_type": "stream",
     "text": [
      "CPU times: user 84.2 ms, sys: 0 ns, total: 84.2 ms\n",
      "Wall time: 83 ms\n"
     ]
    }
   ],
   "source": [
    "%%time\n",
    "long24 = [x for x in zzzzzzz if len(x) == 35]"
   ]
  },
  {
   "cell_type": "code",
   "execution_count": 300,
   "metadata": {},
   "outputs": [
    {
     "data": {
      "text/plain": [
       "1928"
      ]
     },
     "execution_count": 300,
     "metadata": {},
     "output_type": "execute_result"
    }
   ],
   "source": [
    "max([np.array(x).flatten().sum() for x in long24])"
   ]
  },
  {
   "cell_type": "markdown",
   "metadata": {},
   "source": [
    "#25"
   ]
  },
  {
   "cell_type": "code",
   "execution_count": null,
   "metadata": {
    "collapsed": true
   },
   "outputs": [],
   "source": [
    "class TM():\n",
    "    def __init__(self):\n",
    "        self.tape = {0 : 0}\n",
    "        self.cursor = 0\n",
    "        self"
   ]
  },
  {
   "cell_type": "code",
   "execution_count": 3,
   "metadata": {
    "collapsed": true
   },
   "outputs": [],
   "source": [
    "ex25_0 = get_input_by_lines(25)"
   ]
  },
  {
   "cell_type": "code",
   "execution_count": 4,
   "metadata": {
    "collapsed": true
   },
   "outputs": [
    {
     "data": {
      "text/plain": [
       "['Begin in state A.',\n",
       " 'Perform a diagnostic checksum after 12261543 steps.',\n",
       " '',\n",
       " 'In state A:',\n",
       " 'If the current value is 0:',\n",
       " '- Write the value 1.',\n",
       " '- Move one slot to the right.',\n",
       " '- Continue with state B.',\n",
       " 'If the current value is 1:',\n",
       " '- Write the value 0.',\n",
       " '- Move one slot to the left.',\n",
       " '- Continue with state C.',\n",
       " '',\n",
       " 'In state B:',\n",
       " 'If the current value is 0:',\n",
       " '- Write the value 1.',\n",
       " '- Move one slot to the left.',\n",
       " '- Continue with state A.',\n",
       " 'If the current value is 1:',\n",
       " '- Write the value 1.',\n",
       " '- Move one slot to the right.',\n",
       " '- Continue with state C.',\n",
       " '',\n",
       " 'In state C:',\n",
       " 'If the current value is 0:',\n",
       " '- Write the value 1.',\n",
       " '- Move one slot to the right.',\n",
       " '- Continue with state A.',\n",
       " 'If the current value is 1:',\n",
       " '- Write the value 0.',\n",
       " '- Move one slot to the left.',\n",
       " '- Continue with state D.',\n",
       " '',\n",
       " 'In state D:',\n",
       " 'If the current value is 0:',\n",
       " '- Write the value 1.',\n",
       " '- Move one slot to the left.',\n",
       " '- Continue with state E.',\n",
       " 'If the current value is 1:',\n",
       " '- Write the value 1.',\n",
       " '- Move one slot to the left.',\n",
       " '- Continue with state C.',\n",
       " '',\n",
       " 'In state E:',\n",
       " 'If the current value is 0:',\n",
       " '- Write the value 1.',\n",
       " '- Move one slot to the right.',\n",
       " '- Continue with state F.',\n",
       " 'If the current value is 1:',\n",
       " '- Write the value 1.',\n",
       " '- Move one slot to the right.',\n",
       " '- Continue with state A.',\n",
       " '',\n",
       " 'In state F:',\n",
       " 'If the current value is 0:',\n",
       " '- Write the value 1.',\n",
       " '- Move one slot to the right.',\n",
       " '- Continue with state A.',\n",
       " 'If the current value is 1:',\n",
       " '- Write the value 1.',\n",
       " '- Move one slot to the right.',\n",
       " '- Continue with state E.']"
      ]
     },
     "execution_count": 4,
     "metadata": {},
     "output_type": "execute_result"
    }
   ],
   "source": [
    "ex25_0"
   ]
  },
  {
   "cell_type": "code",
   "execution_count": 5,
   "metadata": {
    "collapsed": true
   },
   "outputs": [],
   "source": [
    "z25_0 = '''Begin in state A.\n",
    "Perform a diagnostic checksum after 6 steps.\n",
    "\n",
    "In state A:\n",
    "  If the current value is 0:\n",
    "    - Write the value 1.\n",
    "    - Move one slot to the right.\n",
    "    - Continue with state B.\n",
    "  If the current value is 1:\n",
    "    - Write the value 0.\n",
    "    - Move one slot to the left.\n",
    "    - Continue with state B.\n",
    "\n",
    "In state B:\n",
    "  If the current value is 0:\n",
    "    - Write the value 1.\n",
    "    - Move one slot to the left.\n",
    "    - Continue with state A.\n",
    "  If the current value is 1:\n",
    "    - Write the value 1.\n",
    "    - Move one slot to the right.\n",
    "    - Continue with state A.'''.split('\\n')"
   ]
  },
  {
   "cell_type": "code",
   "execution_count": 6,
   "metadata": {},
   "outputs": [
    {
     "data": {
      "text/plain": [
       "['Begin in state A.',\n",
       " 'Perform a diagnostic checksum after 6 steps.',\n",
       " '',\n",
       " 'In state A:',\n",
       " '  If the current value is 0:',\n",
       " '    - Write the value 1.',\n",
       " '    - Move one slot to the right.',\n",
       " '    - Continue with state B.',\n",
       " '  If the current value is 1:',\n",
       " '    - Write the value 0.',\n",
       " '    - Move one slot to the left.',\n",
       " '    - Continue with state B.',\n",
       " '',\n",
       " 'In state B:',\n",
       " '  If the current value is 0:',\n",
       " '    - Write the value 1.',\n",
       " '    - Move one slot to the left.',\n",
       " '    - Continue with state A.',\n",
       " '  If the current value is 1:',\n",
       " '    - Write the value 1.',\n",
       " '    - Move one slot to the right.',\n",
       " '    - Continue with state A.']"
      ]
     },
     "execution_count": 6,
     "metadata": {},
     "output_type": "execute_result"
    }
   ],
   "source": [
    "z25_0"
   ]
  },
  {
   "cell_type": "code",
   "execution_count": 42,
   "metadata": {
    "collapsed": true
   },
   "outputs": [],
   "source": [
    "lr = {' left' : -1, 'right' : 1}"
   ]
  },
  {
   "cell_type": "code",
   "execution_count": 74,
   "metadata": {
    "collapsed": true
   },
   "outputs": [],
   "source": [
    "# simple encode_instr\n",
    "def encode_instr(text):\n",
    "    instr = {}\n",
    "    instr[0] = text[0][-2]\n",
    "    \n",
    "    for i in range(3, 63, 10):\n",
    "        cond_dict = dict()\n",
    "\n",
    "        cond_dict[int(text[i+1][-2])] = (int(text[i+2][-2]),\n",
    "                                        lr[text[i+3][-6:-1]],\n",
    "                                        text[i+4][-2])\n",
    "        cond_dict[int(text[i+5][-2])] = (int(text[i+6][-2]),\n",
    "                                        lr[text[i+7][-6:-1]],\n",
    "                                        text[i+8][-2])\n",
    "        instr[text[i][-2]] = cond_dict\n",
    "    return instr"
   ]
  },
  {
   "cell_type": "code",
   "execution_count": 49,
   "metadata": {
    "collapsed": true
   },
   "outputs": [
    {
     "data": {
      "text/plain": [
       "['Begin in state A.',\n",
       " 'Perform a diagnostic checksum after 12261543 steps.',\n",
       " '',\n",
       " 'In state A:',\n",
       " 'If the current value is 0:',\n",
       " '- Write the value 1.',\n",
       " '- Move one slot to the right.',\n",
       " '- Continue with state B.',\n",
       " 'If the current value is 1:',\n",
       " '- Write the value 0.',\n",
       " '- Move one slot to the left.',\n",
       " '- Continue with state C.',\n",
       " '',\n",
       " 'In state B:',\n",
       " 'If the current value is 0:',\n",
       " '- Write the value 1.',\n",
       " '- Move one slot to the left.',\n",
       " '- Continue with state A.',\n",
       " 'If the current value is 1:',\n",
       " '- Write the value 1.',\n",
       " '- Move one slot to the right.',\n",
       " '- Continue with state C.',\n",
       " '',\n",
       " 'In state C:',\n",
       " 'If the current value is 0:',\n",
       " '- Write the value 1.',\n",
       " '- Move one slot to the right.',\n",
       " '- Continue with state A.',\n",
       " 'If the current value is 1:',\n",
       " '- Write the value 0.',\n",
       " '- Move one slot to the left.',\n",
       " '- Continue with state D.',\n",
       " '',\n",
       " 'In state D:',\n",
       " 'If the current value is 0:',\n",
       " '- Write the value 1.',\n",
       " '- Move one slot to the left.',\n",
       " '- Continue with state E.',\n",
       " 'If the current value is 1:',\n",
       " '- Write the value 1.',\n",
       " '- Move one slot to the left.',\n",
       " '- Continue with state C.',\n",
       " '',\n",
       " 'In state E:',\n",
       " 'If the current value is 0:',\n",
       " '- Write the value 1.',\n",
       " '- Move one slot to the right.',\n",
       " '- Continue with state F.',\n",
       " 'If the current value is 1:',\n",
       " '- Write the value 1.',\n",
       " '- Move one slot to the right.',\n",
       " '- Continue with state A.',\n",
       " '',\n",
       " 'In state F:',\n",
       " 'If the current value is 0:',\n",
       " '- Write the value 1.',\n",
       " '- Move one slot to the right.',\n",
       " '- Continue with state A.',\n",
       " 'If the current value is 1:',\n",
       " '- Write the value 1.',\n",
       " '- Move one slot to the right.',\n",
       " '- Continue with state E.']"
      ]
     },
     "execution_count": 49,
     "metadata": {},
     "output_type": "execute_result"
    }
   ],
   "source": [
    "ex25_0"
   ]
  },
  {
   "cell_type": "code",
   "execution_count": 70,
   "metadata": {},
   "outputs": [
    {
     "data": {
      "text/plain": [
       "62"
      ]
     },
     "execution_count": 70,
     "metadata": {},
     "output_type": "execute_result"
    }
   ],
   "source": [
    "len(ex25_0)"
   ]
  },
  {
   "cell_type": "code",
   "execution_count": 76,
   "metadata": {
    "collapsed": true
   },
   "outputs": [],
   "source": [
    "ex25 = encode_instr(ex25_0)"
   ]
  },
  {
   "cell_type": "code",
   "execution_count": 8,
   "metadata": {
    "collapsed": true
   },
   "outputs": [],
   "source": [
    "z25 = \\\n",
    "{\n",
    "     0  : 'A',\n",
    "    'A' : {0 : (1,  1, 'B'), 1 : (0, -1, 'B')},\n",
    "    'B' : {0 : (1, -1, 'A'), 1 : (1,  1, 'A')}\n",
    "}"
   ]
  },
  {
   "cell_type": "code",
   "execution_count": 9,
   "metadata": {},
   "outputs": [
    {
     "data": {
      "text/plain": [
       "{0: 'A',\n",
       " 'A': {0: (1, 1, 'B'), 1: (0, -1, 'B')},\n",
       " 'B': {0: (1, -1, 'A'), 1: (1, 1, 'A')}}"
      ]
     },
     "execution_count": 9,
     "metadata": {},
     "output_type": "execute_result"
    }
   ],
   "source": [
    "z25"
   ]
  },
  {
   "cell_type": "code",
   "execution_count": 33,
   "metadata": {
    "collapsed": true
   },
   "outputs": [],
   "source": [
    "class TM():\n",
    "    def __init__(self, blueprint):\n",
    "        self.tape = {0 : 0}\n",
    "        self.cursor = 0\n",
    "        self.state = blueprint[0]\n",
    "        self.blueprint = blueprint\n",
    "\n",
    "    def step(self, n=1):\n",
    "        for i in range(n):\n",
    "            try:\n",
    "                val = self.tape[self.cursor]\n",
    "            except:\n",
    "                self.tape[self.cursor] = 0\n",
    "                val = self.tape[self.cursor]\n",
    "                \n",
    "            self.tape[self.cursor] = self.blueprint[self.state][val][0]\n",
    "            self.cursor += self.blueprint[self.state][val][1]\n",
    "            self.state = self.blueprint[self.state][val][2]\n",
    "        return\n",
    "    \n",
    "    def checksum(self):\n",
    "        return sum(self.tape.values())"
   ]
  },
  {
   "cell_type": "code",
   "execution_count": 34,
   "metadata": {
    "collapsed": true
   },
   "outputs": [],
   "source": [
    "tm = TM(z25)"
   ]
  },
  {
   "cell_type": "code",
   "execution_count": 35,
   "metadata": {},
   "outputs": [
    {
     "data": {
      "text/plain": [
       "{'blueprint': {0: 'A',\n",
       "  'A': {0: (1, 1, 'B'), 1: (0, -1, 'B')},\n",
       "  'B': {0: (1, -1, 'A'), 1: (1, 1, 'A')}},\n",
       " 'cursor': 0,\n",
       " 'state': 'A',\n",
       " 'tape': {0: 0}}"
      ]
     },
     "execution_count": 35,
     "metadata": {},
     "output_type": "execute_result"
    }
   ],
   "source": [
    "vars(tm)"
   ]
  },
  {
   "cell_type": "code",
   "execution_count": 36,
   "metadata": {},
   "outputs": [
    {
     "data": {
      "text/plain": [
       "{'blueprint': {0: 'A',\n",
       "  'A': {0: (1, 1, 'B'), 1: (0, -1, 'B')},\n",
       "  'B': {0: (1, -1, 'A'), 1: (1, 1, 'A')}},\n",
       " 'cursor': 0,\n",
       " 'state': 'A',\n",
       " 'tape': {-2: 1, -1: 1, 0: 0, 1: 1}}"
      ]
     },
     "execution_count": 36,
     "metadata": {},
     "output_type": "execute_result"
    }
   ],
   "source": [
    "tm.step(6)\n",
    "vars(tm)"
   ]
  },
  {
   "cell_type": "code",
   "execution_count": 37,
   "metadata": {},
   "outputs": [
    {
     "data": {
      "text/plain": [
       "3"
      ]
     },
     "execution_count": 37,
     "metadata": {},
     "output_type": "execute_result"
    }
   ],
   "source": [
    "tm.checksum()"
   ]
  },
  {
   "cell_type": "code",
   "execution_count": 150,
   "metadata": {
    "collapsed": true
   },
   "outputs": [],
   "source": [
    "tm25 = TM(ex25)"
   ]
  },
  {
   "cell_type": "code",
   "execution_count": 151,
   "metadata": {},
   "outputs": [
    {
     "name": "stdout",
     "output_type": "stream",
     "text": [
      "CPU times: user 7.73 s, sys: 0 ns, total: 7.73 s\n",
      "Wall time: 7.73 s\n"
     ]
    }
   ],
   "source": [
    "%%time\n",
    "tm25.step(12261543)"
   ]
  },
  {
   "cell_type": "code",
   "execution_count": 152,
   "metadata": {},
   "outputs": [
    {
     "data": {
      "text/plain": [
       "5744"
      ]
     },
     "execution_count": 152,
     "metadata": {},
     "output_type": "execute_result"
    }
   ],
   "source": [
    "tm25.checksum()"
   ]
  },
  {
   "cell_type": "markdown",
   "metadata": {},
   "source": [
    "# redo of #3"
   ]
  },
  {
   "cell_type": "code",
   "execution_count": 2,
   "metadata": {
    "collapsed": true
   },
   "outputs": [],
   "source": [
    "def func(x):\n",
    "    return 4*(x**2) - 2*x + 1"
   ]
  },
  {
   "cell_type": "code",
   "execution_count": 4,
   "metadata": {},
   "outputs": [
    {
     "data": {
      "text/plain": [
       "[1, 3, 13, 31, 57, 91, 133, 183, 241, 307]"
      ]
     },
     "execution_count": 4,
     "metadata": {},
     "output_type": "execute_result"
    }
   ],
   "source": [
    "[func(x) for x in range(10)]"
   ]
  },
  {
   "cell_type": "code",
   "execution_count": 130,
   "metadata": {
    "collapsed": true
   },
   "outputs": [],
   "source": [
    "corner_map = {\n",
    "    0 : ( 1,  1),\n",
    "    1 : (-1,  1),\n",
    "    2 : (-1, -1),\n",
    "    3 : ( 1, -1)\n",
    "}\n",
    "\n",
    "minus_map = {\n",
    "    0 : ( 0, -1),\n",
    "    1 : ( 1,  0),\n",
    "    2 : ( 0,  1),\n",
    "    3 : (-1,  0)\n",
    "}"
   ]
  },
  {
   "cell_type": "code",
   "execution_count": 124,
   "metadata": {
    "collapsed": true
   },
   "outputs": [],
   "source": [
    "def odd_sqrt(x):\n",
    "    if x == 1:\n",
    "        return 0\n",
    "    n = int((x-1)**0.5)\n",
    "    return n if n&1 else (n-1)\n",
    "\n",
    "def find_corner(x):\n",
    "    if x == 1:\n",
    "        return 0, 0\n",
    "    s = odd_sqrt(x)\n",
    "    return ((x - s**2 - 1) // (s+1)), odd_sqrt(x)\n",
    "\n",
    "def get_coord(x):\n",
    "    if x == 1:\n",
    "        return (0, 0)\n",
    "    corner_type, start_sq = find_corner(x)\n",
    "    upper_right = ((start_sq+1)/2, (start_sq+1)/2)\n",
    "    \n",
    "    coord = np.array(upper_right) * np.array(corner_map[corner_type])\n",
    "    coord += (start_sq**2 + (corner_type+1)*(start_sq+1) - x)\\\n",
    "            *(np.array(minus_map[corner_type]))\n",
    "    return tuple([int(x) for x in coord])\n",
    "\n",
    "def manhattan(x):\n",
    "    return sum([abs(c) for c in get_coord(x)])"
   ]
  },
  {
   "cell_type": "code",
   "execution_count": 147,
   "metadata": {},
   "outputs": [
    {
     "data": {
      "text/plain": [
       "326"
      ]
     },
     "execution_count": 147,
     "metadata": {},
     "output_type": "execute_result"
    }
   ],
   "source": [
    "manhattan(361527)"
   ]
  },
  {
   "cell_type": "markdown",
   "metadata": {},
   "source": [
    "# #3 part 2"
   ]
  },
  {
   "cell_type": "code",
   "execution_count": 205,
   "metadata": {
    "collapsed": true
   },
   "outputs": [],
   "source": [
    "class SpiralGrid():\n",
    "    def __init__(self, rule_func):\n",
    "        self.grid = dict()\n",
    "        self.rule = rule_func\n",
    "        self.grid[(0, 0)] = 1\n",
    "        return\n",
    "    \n",
    "    def step(self):\n",
    "        grid_size = len(self.grid)\n",
    "        new_coord = get_coord(grid_size+1)\n",
    "        \n",
    "        self.grid[new_coord]\\\n",
    "        = self.rule(self.grid, new_coord)\n",
    "        \n",
    "        return self.grid[new_coord]\n",
    "\n",
    "def rule1(grid, new_coord):\n",
    "    return len(grid) + 1\n",
    "\n",
    "def rule2(grid, new_coord):\n",
    "    new_coord = np.array(new_coord)\n",
    "    total = 0\n",
    "    for i in [-1, 0, 1]:\n",
    "        for j in [-1, 0, 1]:\n",
    "            try:\n",
    "                total += grid[tuple(new_coord + np.array((i, j)))]\n",
    "            except:\n",
    "                pass\n",
    "    return total\n",
    "\n",
    "def part2(input_, rule):\n",
    "    grid = SpiralGrid(rule)\n",
    "    x = 0\n",
    "    while x <= input_:\n",
    "        x = grid.step()\n",
    "    print(x)\n",
    "    return"
   ]
  },
  {
   "cell_type": "code",
   "execution_count": 213,
   "metadata": {},
   "outputs": [
    {
     "name": "stdout",
     "output_type": "stream",
     "text": [
      "363010\n"
     ]
    }
   ],
   "source": [
    "part2(361527, rule2)"
   ]
  }
 ],
 "metadata": {
  "kernelspec": {
   "display_name": "Python 3",
   "language": "python",
   "name": "python3"
  },
  "language_info": {
   "codemirror_mode": {
    "name": "ipython",
    "version": 3
   },
   "file_extension": ".py",
   "mimetype": "text/x-python",
   "name": "python",
   "nbconvert_exporter": "python",
   "pygments_lexer": "ipython3",
   "version": "3.6.3"
  }
 },
 "nbformat": 4,
 "nbformat_minor": 2
}
