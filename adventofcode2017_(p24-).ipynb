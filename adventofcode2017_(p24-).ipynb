{
 "cells": [
  {
   "cell_type": "code",
   "execution_count": 1,
   "metadata": {
    "collapsed": true
   },
   "outputs": [],
   "source": [
    "import re\n",
    "\n",
    "def get_input_by_lines(prob, strip=True):\n",
    "    lines = []\n",
    "\n",
    "    with open('prob{}.txt'.format(prob), 'r') as prob_input:\n",
    "        for line in prob_input:\n",
    "            line = re.sub(r'\\t', ',', line)\n",
    "            if strip:\n",
    "                lines.append(line.strip())\n",
    "    #print(lines[:4], len(lines))\n",
    "\n",
    "    return lines"
   ]
  },
  {
   "cell_type": "code",
   "execution_count": 2,
   "metadata": {
    "collapsed": true
   },
   "outputs": [],
   "source": [
    "ex16 = get_input_by_lines(16)[0].split(',')"
   ]
  },
  {
   "cell_type": "code",
   "execution_count": 3,
   "metadata": {},
   "outputs": [
    {
     "data": {
      "text/plain": [
       "['x14/11',\n",
       " 'ph/p',\n",
       " 'x4/5',\n",
       " 's10',\n",
       " 'x12/14',\n",
       " 's6',\n",
       " 'x8/6',\n",
       " 's6',\n",
       " 'x13/10',\n",
       " 'pk/f']"
      ]
     },
     "execution_count": 3,
     "metadata": {},
     "output_type": "execute_result"
    }
   ],
   "source": [
    "ex16[:10]"
   ]
  }
 ],
 "metadata": {
  "kernelspec": {
   "display_name": "Python 3",
   "language": "python",
   "name": "python3"
  },
  "language_info": {
   "codemirror_mode": {
    "name": "ipython",
    "version": 3
   },
   "file_extension": ".py",
   "mimetype": "text/x-python",
   "name": "python",
   "nbconvert_exporter": "python",
   "pygments_lexer": "ipython3",
   "version": "3.6.3"
  }
 },
 "nbformat": 4,
 "nbformat_minor": 2
}
